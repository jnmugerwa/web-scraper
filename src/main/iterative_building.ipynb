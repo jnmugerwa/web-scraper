{
 "cells": [
  {
   "cell_type": "code",
   "execution_count": 1,
   "metadata": {
    "collapsed": true,
    "pycharm": {
     "is_executing": false
    }
   },
   "outputs": [],
   "source": [
    "# tutorial from datasciencedojo\n",
    "from bs4 import BeautifulSoup as soup  # HTML data structure\n",
    "from urllib.request import urlopen as uReq  # Web client\n",
    "\n",
    "url = \"https://www.newegg.com/p/pl?d=GTX&N=-1&IsNodeId=1&bop=And&Page=1&PageSize=36&order=BESTMATCH\"\n",
    "client = uReq(url)\n"
   ]
  },
  {
   "cell_type": "code",
   "execution_count": 2,
   "outputs": [],
   "source": [
    "# parses html into a soup data structure to traverse html\n",
    "# as if it were a json data type.\n",
    "page_soup = soup(client.read(), \"html.parser\")\n",
    "client.close()"
   ],
   "metadata": {
    "collapsed": false,
    "pycharm": {
     "name": "#%%\n",
     "is_executing": false
    }
   }
  },
  {
   "cell_type": "code",
   "execution_count": 3,
   "outputs": [],
   "source": [
    "# finds each product from the store page\n",
    "containers = page_soup.findAll(\"div\", {\"class\": \"item-container\"})"
   ],
   "metadata": {
    "collapsed": false,
    "pycharm": {
     "name": "#%%\n",
     "is_executing": false
    }
   }
  },
  {
   "cell_type": "code",
   "execution_count": 4,
   "outputs": [],
   "source": [
    "# name the output file to write to local disk\n",
    "out_filename = \"graphics_cards.csv\"\n",
    "# header of csv file to be written\n",
    "headers = \"product_name,url \\n\""
   ],
   "metadata": {
    "collapsed": false,
    "pycharm": {
     "name": "#%%\n",
     "is_executing": false
    }
   }
  },
  {
   "cell_type": "code",
   "execution_count": 6,
   "outputs": [
    {
     "data": {
      "text/plain": "18"
     },
     "metadata": {},
     "output_type": "execute_result",
     "execution_count": 6
    }
   ],
   "source": [
    "# opens file, and writes headers\n",
    "f = open(out_filename, \"w\")\n",
    "f.write(headers)"
   ],
   "metadata": {
    "collapsed": false,
    "pycharm": {
     "name": "#%%\n",
     "is_executing": false
    }
   }
  },
  {
   "cell_type": "code",
   "execution_count": 29,
   "outputs": [
    {
     "data": {
      "text/plain": "'\\r\\n                            \\r\\n                            Evga Geforce Gtx 1660 Sc Ultra Gaming, 06G-P4-1067-Kr, 6Gb Gddr5, Dual Fan, M...\\r\\n                        '"
     },
     "metadata": {},
     "output_type": "execute_result",
     "execution_count": 29
    }
   ],
   "source": [
    "# Grabbing elements from page\n",
    "html_elements = containers[0].div.select(\"a\")\n",
    "url = html_elements[0][\"href\"]\n",
    "title = html_elements[1].text.replace(\" \", \"\").replace(\"\\r\\n\", \"\")"
   ],
   "metadata": {
    "collapsed": false,
    "pycharm": {
     "name": "#%%\n",
     "is_executing": false
    }
   }
  },
  {
   "cell_type": "code",
   "execution_count": 35,
   "outputs": [
    {
     "name": "stdout",
     "text": [
      "url: https://www.newegg.com/evga-geforce-gtx-1660-06g-p4-1067-kr/p/N82E16814487448?cm_sp=SearchSuccess-_-INFOCARD-_-GTX-_-14-487-448-_-1&Description=GTX&IsFeedbackTab=true#scrollFullInfo\n",
      "\n",
      "product_name: EVGAGeForceGTX1660SCULTRAGAMING,06G-P4-1067-KR,6GBGDDR5,DualFan,M...\n",
      "\n",
      "url: https://www.newegg.com/gigabyte-geforce-gtx-1660-gv-n1660oc-6gd/p/N82E16814932138?cm_sp=SearchSuccess-_-INFOCARD-_-GTX-_-14-932-138-_-2&Description=GTX&IsFeedbackTab=true#scrollFullInfo\n",
      "\n",
      "product_name: GIGABYTEGeForceGTX1660OC6GGraphicsCard,2xWINDFORCEFans,6GB192-Bi...\n",
      "\n",
      "url: https://www.newegg.com/Product/Product.aspx?Item=9SIA6ZPAC64815&cm_sp=SearchSuccess-_-INFOCARD-_-GTX-_-9SIA6ZPAC64815-_-3&Description=GTX\n",
      "\n",
      "product_name: \n",
      "\n",
      "url: https://www.newegg.com/gigabyte-geforce-gtx-1660-super-gv-n166soc-6gd/p/N82E16814932224?cm_sp=SearchSuccess-_-INFOCARD-_-GTX-_-9SIA96KAMD2141-_-4&Description=GTX&IsFeedbackTab=true#scrollFullInfo\n",
      "\n",
      "product_name: GIGABYTEGeForceGTX1660SUPERDirectX12GV-N166SOC-6GD6GB192-BitGDDR6P...\n",
      "\n",
      "url: \n",
      "\n",
      "product_name: \n",
      "\n",
      "url: \n",
      "\n",
      "product_name: \n",
      "\n",
      "url: \n",
      "\n",
      "product_name: \n",
      "\n",
      "url: \n",
      "\n",
      "product_name: \n",
      "\n",
      "url: \n",
      "\n",
      "product_name: \n",
      "\n",
      "url: \n",
      "\n",
      "product_name: \n",
      "\n",
      "url: \n",
      "\n",
      "product_name: \n",
      "\n",
      "url: \n",
      "\n",
      "product_name: \n",
      "\n",
      "url: \n",
      "\n",
      "product_name: \n",
      "\n",
      "url: \n",
      "\n",
      "product_name: \n",
      "\n",
      "url: \n",
      "\n",
      "product_name: \n",
      "\n",
      "url: \n",
      "\n",
      "product_name: \n",
      "\n",
      "url: \n",
      "\n",
      "product_name: \n",
      "\n",
      "url: \n",
      "\n",
      "product_name: \n",
      "\n",
      "url: \n",
      "\n",
      "product_name: \n",
      "\n",
      "url: \n",
      "\n",
      "product_name: \n",
      "\n",
      "url: \n",
      "\n",
      "product_name: \n",
      "\n",
      "url: \n",
      "\n",
      "product_name: \n",
      "\n",
      "url: \n",
      "\n",
      "product_name: \n",
      "\n",
      "url: \n",
      "\n",
      "product_name: \n",
      "\n",
      "url: \n",
      "\n",
      "product_name: \n",
      "\n",
      "url: \n",
      "\n",
      "product_name: \n",
      "\n",
      "url: \n",
      "\n",
      "product_name: \n",
      "\n",
      "url: \n",
      "\n",
      "product_name: \n",
      "\n",
      "url: \n",
      "\n",
      "product_name: \n",
      "\n",
      "url: \n",
      "\n",
      "product_name: \n",
      "\n",
      "url: \n",
      "\n",
      "product_name: \n",
      "\n",
      "url: \n",
      "\n",
      "product_name: \n",
      "\n",
      "url: \n",
      "\n",
      "product_name: \n",
      "\n",
      "url: \n",
      "\n",
      "product_name: \n",
      "\n",
      "url: \n",
      "\n",
      "product_name: \n",
      "\n",
      "url: \n",
      "\n",
      "product_name: \n",
      "\n",
      "url: \n",
      "\n",
      "product_name: \n",
      "\n",
      "url: \n",
      "\n",
      "product_name: \n",
      "\n",
      "url: \n",
      "\n",
      "product_name: \n",
      "\n",
      "url: \n",
      "\n",
      "product_name: \n",
      "\n",
      "url: \n",
      "\n",
      "product_name: \n",
      "\n"
     ],
     "output_type": "stream"
    }
   ],
   "source": [
    "# loops over each product and grabs attributes about\n",
    "# each product\n",
    "for container in containers:\n",
    "    # Finds all link tags \"a\" from within the first div.\n",
    "    html_elements = container.div.select(\"a\")\n",
    "\n",
    "    # Grabs the title from the image title attribute\n",
    "    # Then does proper casing using .title()\n",
    "    url = \"\"\n",
    "    if html_elements:\n",
    "        url = html_elements[0][\"href\"]\n",
    "\n",
    "    # Grabs the text within the second \"(a)\" tag from within\n",
    "    # the list of queries.\n",
    "    product_name = \"\"\n",
    "    if len(html_elements) >= 2:\n",
    "        product_name = html_elements[1].text.replace(\" \", \"\").replace(\"\\r\\n\", \"\")\n",
    "\n",
    "    # prints the dataset to console\n",
    "    print(\"url: \" + url + \"\\n\")\n",
    "    print(\"product_name: \" + product_name + \"\\n\")\n",
    "\n",
    "\n",
    "    # writes the dataset to file\n",
    "    f.write(url + \",  \" + product_name + \", \" + \"\\n\")\n",
    "\n",
    "f.close()  # Close the file\n",
    "\n",
    "\n"
   ],
   "metadata": {
    "collapsed": false,
    "pycharm": {
     "name": "#%%\n",
     "is_executing": false
    }
   }
  }
 ],
 "metadata": {
  "kernelspec": {
   "display_name": "Python 3",
   "language": "python",
   "name": "python3"
  },
  "language_info": {
   "codemirror_mode": {
    "name": "ipython",
    "version": 2
   },
   "file_extension": ".py",
   "mimetype": "text/x-python",
   "name": "python",
   "nbconvert_exporter": "python",
   "pygments_lexer": "ipython2",
   "version": "2.7.6"
  },
  "pycharm": {
   "stem_cell": {
    "cell_type": "raw",
    "source": [],
    "metadata": {
     "collapsed": false
    }
   }
  }
 },
 "nbformat": 4,
 "nbformat_minor": 0
}